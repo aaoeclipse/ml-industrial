{
 "cells": [
  {
   "cell_type": "markdown",
   "id": "009f9c35",
   "metadata": {},
   "source": [
    "## NYC Taxi Data Experimnt Tracking"
   ]
  },
  {
   "cell_type": "code",
   "execution_count": null,
   "id": "b2bd82d7",
   "metadata": {},
   "outputs": [],
   "source": [
    "!python -V"
   ]
  },
  {
   "cell_type": "code",
   "execution_count": null,
   "id": "8b135c2b",
   "metadata": {},
   "outputs": [],
   "source": [
    "import pandas as pd\n",
    "\n",
    "from sklearn.feature_extraction import DictVectorizer\n",
    "from sklearn.linear_model import LinearRegression\n",
    "from sklearn.linear_model import Lasso\n",
    "from sklearn.linear_model import Ridge\n",
    "\n",
    "from sklearn.metrics import mean_squared_error"
   ]
  },
  {
   "cell_type": "code",
   "execution_count": null,
   "id": "f0b3c9b1",
   "metadata": {},
   "outputs": [],
   "source": [
    "train_raw_data = pd.read_parquet('green_tripdata_2021-01.parquet')\n",
    "val_raw_data = pd.read_parquet('green_tripdata_2021-02.parquet')"
   ]
  },
  {
   "cell_type": "code",
   "execution_count": null,
   "id": "caa0c926",
   "metadata": {},
   "outputs": [],
   "source": [
    "train_raw_data.head()"
   ]
  },
  {
   "cell_type": "code",
   "execution_count": null,
   "id": "4e99c325",
   "metadata": {},
   "outputs": [],
   "source": [
    "train_raw_data.info()"
   ]
  },
  {
   "cell_type": "code",
   "execution_count": null,
   "id": "333bf518",
   "metadata": {},
   "outputs": [],
   "source": [
    "def process_dataframe(data):\n",
    "    data.lpep_dropoff_datetime = pd.to_datetime(data.lpep_dropoff_datetime)\n",
    "    data.lpep_pickup_datetime = pd.to_datetime(data.lpep_pickup_datetime)\n",
    "\n",
    "    data['duration'] = data.lpep_dropoff_datetime - data.lpep_pickup_datetime\n",
    "    data.duration = data.duration.apply(lambda td: td.total_seconds() / 60)\n",
    "    data = data[(data.duration >= 1) & (data.duration <= 60)]\n",
    "    \n",
    "    data['PULocationID'].astype(str, copy=False)\n",
    "    data['DOLocationID'].astype(str, copy=False)\n",
    "    \n",
    "    return data"
   ]
  },
  {
   "cell_type": "code",
   "execution_count": null,
   "id": "36d77ff3",
   "metadata": {},
   "outputs": [],
   "source": [
    "num_features = ['trip_distance', 'extra', 'fare_amount']\n",
    "cat_features = ['PULocationID', 'DOLocationID']"
   ]
  },
  {
   "cell_type": "code",
   "execution_count": null,
   "id": "2e84bb84",
   "metadata": {},
   "outputs": [],
   "source": [
    "X_train = process_dataframe(train_raw_data)[num_features + cat_features]\n",
    "X_val = process_dataframe(val_raw_data)[num_features + cat_features] \n",
    "\n",
    "y_train = process_dataframe(train_raw_data)['duration']\n",
    "y_val = process_dataframe(val_raw_data)['duration'] "
   ]
  },
  {
   "cell_type": "code",
   "execution_count": null,
   "id": "75c9826d",
   "metadata": {},
   "outputs": [],
   "source": [
    "X_val.isnull().sum()"
   ]
  },
  {
   "cell_type": "markdown",
   "id": "ee6f0bfe",
   "metadata": {},
   "source": [
    "## Simple Experimnet "
   ]
  },
  {
   "cell_type": "code",
   "execution_count": null,
   "id": "c93df975",
   "metadata": {},
   "outputs": [],
   "source": [
    "lr = Ridge()\n",
    "lr.fit(X_train, y_train)\n",
    "\n",
    "y_pred = lr.predict(X_val)\n",
    "\n",
    "mean_squared_error(y_val, y_pred, squared=False)"
   ]
  },
  {
   "cell_type": "markdown",
   "id": "288e677b",
   "metadata": {},
   "source": [
    "## MLflow tracking"
   ]
  },
  {
   "cell_type": "code",
   "execution_count": null,
   "id": "03728b63",
   "metadata": {},
   "outputs": [],
   "source": [
    "import mlflow"
   ]
  },
  {
   "cell_type": "code",
   "execution_count": null,
   "id": "889d09c5",
   "metadata": {},
   "outputs": [],
   "source": [
    "mlflow.set_tracking_uri(\"sqlite:///mlflow.db\")\n",
    "mlflow.set_experiment(\"nyc-data-experiment\")"
   ]
  },
  {
   "cell_type": "code",
   "execution_count": null,
   "id": "5647781c",
   "metadata": {},
   "outputs": [],
   "source": [
    "with mlflow.start_run():\n",
    "    mlflow.set_tag(\"workspace\", \"in_class\")\n",
    "    mlflow.log_param(\"train_data_name\", \"green_tripdata_2021-01.parquet\")\n",
    "    mlflow.log_param(\"validation_data_name\", \"green_tripdata_2021-02.parquet\")\n",
    "    \n",
    "    alpha = 0.99\n",
    "    mlflow.log_param(\"alpha\", alpha)\n",
    "    \n",
    "    lr = Lasso(alpha)\n",
    "    lr.fit(X_train, y_train)\n",
    "\n",
    "    y_pred = lr.predict(X_val)\n",
    "    rmse = mean_squared_error(y_val, y_pred, squared=False)\n",
    "    \n",
    "    mlflow.log_metric(\"rmse\", rmse)"
   ]
  },
  {
   "cell_type": "markdown",
   "id": "e3790f76",
   "metadata": {},
   "source": [
    "## Hyperparameters Optimization"
   ]
  },
  {
   "cell_type": "code",
   "execution_count": null,
   "id": "b3520c2a",
   "metadata": {},
   "outputs": [],
   "source": [
    "import xgboost as xgb\n",
    "\n",
    "from hyperopt import fmin, tpe, hp, STATUS_OK, Trials\n",
    "from hyperopt.pyll import scope"
   ]
  },
  {
   "cell_type": "code",
   "execution_count": null,
   "id": "884bf5bc",
   "metadata": {},
   "outputs": [],
   "source": [
    "mlflow.set_tracking_uri(\"sqlite:///mlflow.db\")\n",
    "mlflow.set_experiment(\"nyc-data-experiment\")"
   ]
  },
  {
   "cell_type": "code",
   "execution_count": null,
   "id": "799e4a8f",
   "metadata": {},
   "outputs": [],
   "source": [
    "train = xgb.DMatrix(X_train, label=y_train)\n",
    "validation = xgb.DMatrix(X_val, label=y_val)"
   ]
  },
  {
   "cell_type": "code",
   "execution_count": null,
   "id": "27c1c6b5",
   "metadata": {},
   "outputs": [],
   "source": [
    "def objective(params):\n",
    "    with mlflow.start_run():\n",
    "        num_boost_round = 500\n",
    "        early_stopping_rounds = 50\n",
    "        \n",
    "        mlflow.log_params(params)\n",
    "        mlflow.log_param('num_boost_round', num_boost_round)\n",
    "        mlflow.log_param('early_stopping_rounds', early_stopping_rounds)\n",
    "        mlflow.log_param('train_data_name', 'green_tripdata_2021-01.parquet')\n",
    "        mlflow.log_param('validation_data_name', 'green_tripdata_2021-02.parquet')\n",
    "        mlflow.set_tag('model', 'xgboost')\n",
    "\n",
    "        booster = xgb.train(\n",
    "            params = params,\n",
    "            dtrain = train,\n",
    "            evals = [(validation, \"validation\")],\n",
    "            num_boost_round = num_boost_round,\n",
    "            early_stopping_rounds = early_stopping_rounds\n",
    "        )\n",
    "        \n",
    "        y_pred = booster.predict(validation)\n",
    "        rmse = mean_squared_error(y_val, y_pred, squared=False)\n",
    "        mlflow.log_metric('rmse', rmse)\n",
    "        return {'loss': rmse, 'status': STATUS_OK}"
   ]
  },
  {
   "cell_type": "code",
   "execution_count": null,
   "id": "92b72f21",
   "metadata": {},
   "outputs": [],
   "source": [
    "grid_search = {\n",
    "    'max_depth': scope.int(hp.quniform('max_depth', 4, 100, 1)),\n",
    "    'reg_alpha': hp.loguniform('reg_alpha', -5, -1),\n",
    "    'reg_lambda': hp.loguniform('reg_lambda', -6, -1),\n",
    "    'min_child': hp.loguniform('min_child', -1, 3),\n",
    "    'seed': 111,\n",
    "    'objective': 'reg:linear'\n",
    "}"
   ]
  },
  {
   "cell_type": "code",
   "execution_count": null,
   "id": "54b60969",
   "metadata": {},
   "outputs": [],
   "source": [
    "best_model = fmin(\n",
    "    fn=objective,\n",
    "    space=grid_search,\n",
    "    algo=tpe.suggest,\n",
    "    max_evals=30,\n",
    "    trials=Trials()\n",
    ")"
   ]
  },
  {
   "cell_type": "markdown",
   "id": "182da9e1",
   "metadata": {},
   "source": [
    "## Train the Best Model"
   ]
  },
  {
   "cell_type": "code",
   "execution_count": null,
   "id": "c5f827d2",
   "metadata": {},
   "outputs": [],
   "source": [
    "import xgboost as xgb\n",
    "\n",
    "from hyperopt import fmin, tpe, hp, STATUS_OK, Trials\n",
    "from hyperopt.pyll import scope"
   ]
  },
  {
   "cell_type": "code",
   "execution_count": null,
   "id": "301265ab",
   "metadata": {},
   "outputs": [],
   "source": [
    "import mlflow"
   ]
  },
  {
   "cell_type": "code",
   "execution_count": null,
   "id": "ace0e748",
   "metadata": {},
   "outputs": [],
   "source": [
    "mlflow.set_tracking_uri(\"sqlite:///mlflow.db\")\n",
    "mlflow.set_experiment(\"nyc-data-experiment\")"
   ]
  },
  {
   "cell_type": "code",
   "execution_count": null,
   "id": "510ab868",
   "metadata": {
    "scrolled": true
   },
   "outputs": [],
   "source": [
    "#We took the best params from the MLflow interface and copien them here\n",
    "\n",
    "best_params = {\n",
    "    'max_depth': 5,\n",
    "    'min_child': 19.345653147972058,\n",
    "    'objective': 'reg:linear',\n",
    "    'reg_alpha': 0.031009193638004067,\n",
    "    'reg_lambda': 0.013053945835415701,\n",
    "    'seed': 111\n",
    "}\n",
    "\n",
    "mlflow.xgboost.autolog()\n",
    "\n",
    "booster = xgb.train(\n",
    "    params = best_params,\n",
    "    dtrain = train,\n",
    "    evals = [(validation, \"validation\")],\n",
    "    num_boost_round = 500,\n",
    "    early_stopping_rounds = 50,\n",
    ")"
   ]
  },
  {
   "cell_type": "code",
   "execution_count": null,
   "id": "f9cb9663",
   "metadata": {},
   "outputs": [],
   "source": [
    "y_pred = booster.predict(validation)\n",
    "\n",
    "rmse = mean_squared_error(y_val, y_pred, squared=False)\n",
    "rmse"
   ]
  },
  {
   "cell_type": "markdown",
   "id": "62474fd4",
   "metadata": {},
   "source": [
    "## Model Logging "
   ]
  },
  {
   "cell_type": "code",
   "execution_count": null,
   "id": "4274221c",
   "metadata": {},
   "outputs": [],
   "source": [
    "import pickle"
   ]
  },
  {
   "cell_type": "code",
   "execution_count": null,
   "id": "b00220ed",
   "metadata": {},
   "outputs": [],
   "source": [
    "with open('models/moodel.bin', 'wb') as f_out:\n",
    "    pickle.dump(booster, f_out)"
   ]
  },
  {
   "cell_type": "code",
   "execution_count": null,
   "id": "216f21e5",
   "metadata": {},
   "outputs": [],
   "source": [
    "with open('preprocessing/process_dataframe.bin', 'wb') as f_out:\n",
    "    pickle.dump(process_dataframe, f_out)"
   ]
  },
  {
   "cell_type": "code",
   "execution_count": null,
   "id": "ebaa73f2",
   "metadata": {},
   "outputs": [],
   "source": [
    "mlflow.set_experiment(\"nyc-data-experiment\")\n",
    "with mlflow.start_run():\n",
    "    best_params = {\n",
    "    'max_depth': 5,\n",
    "    'min_child': 19.345653147972058,\n",
    "    'objective': 'reg:linear',\n",
    "    'reg_alpha': 0.031009193638004067,\n",
    "    'reg_lambda': 0.013053945835415701,\n",
    "    'seed': 111\n",
    "    }\n",
    "    \n",
    "    mlflow.log_params(best_params)\n",
    "    mlflow.log_param('train_data_name', 'green_tripdata_2021-01.parquet')\n",
    "    mlflow.log_param('validation_data_name', 'green_tripdata_2021-02.parquet')\n",
    "    mlflow.set_tag('model', 'xgboost')\n",
    "    \n",
    "    booster = xgb.train(\n",
    "    params = best_params,\n",
    "    dtrain = train,\n",
    "    evals = [(validation, \"validation\")],\n",
    "    num_boost_round = 500,\n",
    "    early_stopping_rounds = 50,\n",
    "    )\n",
    "    \n",
    "    mlflow.xgboost.log_model(booster, artifact_path='mlflow_models')\n",
    "    mlflow.log_artifact('preprocessing/process_dataframe.bin', artifact_path='preprocessing')\n",
    "    "
   ]
  },
  {
   "cell_type": "markdown",
   "id": "e9a81586",
   "metadata": {},
   "source": [
    "## Load Model"
   ]
  },
  {
   "cell_type": "code",
   "execution_count": null,
   "id": "afbf455e",
   "metadata": {},
   "outputs": [],
   "source": [
    "logged_model = 'runs:/b7a0f13c85694ac4b3615b03ed49444c/mlflow_models'\n",
    "loaded_model = mlflow.pyfunc.load_model(logged_model)"
   ]
  },
  {
   "cell_type": "code",
   "execution_count": null,
   "id": "98a0b92d",
   "metadata": {},
   "outputs": [],
   "source": [
    "type(loaded_model)"
   ]
  },
  {
   "cell_type": "code",
   "execution_count": null,
   "id": "df084f5a",
   "metadata": {},
   "outputs": [],
   "source": [
    "y_preds = loaded_model.predict(X_val)"
   ]
  },
  {
   "cell_type": "code",
   "execution_count": null,
   "id": "4415221a",
   "metadata": {},
   "outputs": [],
   "source": [
    "mean_squared_error(y_preds, y_val, squared=False)"
   ]
  },
  {
   "cell_type": "code",
   "execution_count": null,
   "id": "f20f4301",
   "metadata": {},
   "outputs": [],
   "source": [
    "y_preds"
   ]
  },
  {
   "cell_type": "code",
   "execution_count": null,
   "id": "8851202f",
   "metadata": {},
   "outputs": [],
   "source": [
    "print(loaded_model.metadata.get_model_info())"
   ]
  },
  {
   "cell_type": "markdown",
   "id": "d7962e77",
   "metadata": {},
   "source": [
    "## Sklearn Models"
   ]
  },
  {
   "cell_type": "code",
   "execution_count": null,
   "id": "ad6f03ed",
   "metadata": {},
   "outputs": [],
   "source": [
    "from sklearn.linear_model import LinearRegression\n",
    "from sklearn.svm import LinearSVR\n",
    "from sklearn.ensemble import RandomForestRegressor, GradientBoostingRegressor"
   ]
  },
  {
   "cell_type": "code",
   "execution_count": null,
   "id": "670d336e",
   "metadata": {},
   "outputs": [],
   "source": [
    "mlflow.sklearn.autolog()\n",
    "\n",
    "for algorithm in (LinearSVR, RandomForestRegressor, GradientBoostingRegressor):\n",
    "    with mlflow.start_run():\n",
    "        mlflow.log_param('train_data_name', 'green_tripdata_2021-01.parquet')\n",
    "        mlflow.log_param('validation_data_name', 'green_tripdata_2021-02.parquet')\n",
    "        mlflow.log_artifact('preprocessing/process_dataframe.bin', artifact_path='preprocessing')\n",
    "        model = algorithm()\n",
    "        model.fit(X_train, y_train)\n",
    "        \n",
    "        preds = model.predict(X_val)\n",
    "        rmse = mean_squared_error(preds, y_val, squared=False)\n",
    "        mlflow.log_metric(\"rmse\", rmse)\n",
    "        \n",
    "        "
   ]
  },
  {
   "cell_type": "code",
   "execution_count": null,
   "id": "b9644cfe",
   "metadata": {},
   "outputs": [],
   "source": []
  }
 ],
 "metadata": {
  "interpreter": {
   "hash": "0848c9d6c7d415ad6c477ff7ff8e98694d1a4aa96d0deee89244642e6b630036"
  },
  "kernelspec": {
   "display_name": "Python 3 (ipykernel)",
   "language": "python",
   "name": "python3"
  },
  "language_info": {
   "codemirror_mode": {
    "name": "ipython",
    "version": 3
   },
   "file_extension": ".py",
   "mimetype": "text/x-python",
   "name": "python",
   "nbconvert_exporter": "python",
   "pygments_lexer": "ipython3",
   "version": "3.9.12"
  }
 },
 "nbformat": 4,
 "nbformat_minor": 5
}
